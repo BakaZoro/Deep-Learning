{
  "nbformat": 4,
  "nbformat_minor": 0,
  "metadata": {
    "colab": {
      "name": "PyTorchRNN_Improved.ipynb",
      "provenance": []
    },
    "kernelspec": {
      "name": "python3",
      "display_name": "Python 3"
    },
    "accelerator": "GPU"
  },
  "cells": [
    {
      "cell_type": "code",
      "metadata": {
        "id": "MYhYywcBYc_q",
        "colab_type": "code",
        "colab": {}
      },
      "source": [
        "import torch\n",
        "import torch.nn as nn\n",
        "import torch.nn.functional as F\n",
        "import os\n",
        "import numpy as np"
      ],
      "execution_count": 1,
      "outputs": []
    },
    {
      "cell_type": "code",
      "metadata": {
        "id": "-SdXRQ_eZIIs",
        "colab_type": "code",
        "colab": {}
      },
      "source": [
        "class CleanBasicRNN(nn.Module):\n",
        "    def __init__(self, batch_size, n_inputs, n_neurons):\n",
        "        super(CleanBasicRNN, self).__init__()\n",
        "        \n",
        "        self.rnn = nn.RNNCell(n_inputs, n_neurons)\n",
        "        self.hx = torch.randn(batch_size, n_neurons) # initialize hidden state\n",
        "        \n",
        "    def forward(self, X):\n",
        "        output = []\n",
        "\n",
        "        # for each time step\n",
        "        for i in range(2):\n",
        "            self.hx = self.rnn(X[i], self.hx)\n",
        "            output.append(self.hx)\n",
        "        \n",
        "        return output, self.hx"
      ],
      "execution_count": 2,
      "outputs": []
    },
    {
      "cell_type": "code",
      "metadata": {
        "id": "WLOzPtNtcjj1",
        "colab_type": "code",
        "colab": {}
      },
      "source": [
        "FIXED_BATCH_SIZE = 4 # our batch size is fixed for now\n",
        "N_INPUT = 3\n",
        "N_NEURONS = 5\n",
        "\n",
        "X_batch = torch.tensor([[[0,1,2], [3,4,5], \n",
        "                         [6,7,8], [9,0,1]],\n",
        "                        [[9,8,7], [0,0,0], \n",
        "                         [6,5,4], [3,2,1]]\n",
        "                       ], dtype = torch.float) # X0 and X1"
      ],
      "execution_count": 3,
      "outputs": []
    },
    {
      "cell_type": "code",
      "metadata": {
        "id": "bTB9JgwNcg1e",
        "colab_type": "code",
        "colab": {
          "base_uri": "https://localhost:8080/",
          "height": 204
        },
        "outputId": "27634900-f2ae-4464-df56-311da8f2d380"
      },
      "source": [
        "model = CleanBasicRNN(FIXED_BATCH_SIZE, N_INPUT, N_NEURONS)\n",
        "output_val, states_val = model(X_batch)\n",
        "print(output_val) #Output of X0 and X1\n",
        "print(states_val)"
      ],
      "execution_count": 4,
      "outputs": [
        {
          "output_type": "stream",
          "text": [
            "[tensor([[ 0.3732,  0.6449, -0.0716,  0.8421, -0.9486],\n",
            "        [ 0.7228, -0.8435, -0.7468,  0.9988, -0.9998],\n",
            "        [ 0.8796, -0.4239, -0.9750,  1.0000, -1.0000],\n",
            "        [-0.9922, -0.9003, -0.9394,  0.9680, -0.9988]], grad_fn=<TanhBackward>), tensor([[ 0.6581, -0.9726, -0.9796,  1.0000, -1.0000],\n",
            "        [-0.2322, -0.3966, -0.1854, -0.8376,  0.4302],\n",
            "        [ 0.3885, -0.9442, -0.9277,  0.9951, -0.9999],\n",
            "        [-0.5736, -0.8624, -0.2245,  0.6911, -0.9764]], grad_fn=<TanhBackward>)]\n",
            "tensor([[ 0.6581, -0.9726, -0.9796,  1.0000, -1.0000],\n",
            "        [-0.2322, -0.3966, -0.1854, -0.8376,  0.4302],\n",
            "        [ 0.3885, -0.9442, -0.9277,  0.9951, -0.9999],\n",
            "        [-0.5736, -0.8624, -0.2245,  0.6911, -0.9764]], grad_fn=<TanhBackward>)\n"
          ],
          "name": "stdout"
        }
      ]
    }
  ]
}