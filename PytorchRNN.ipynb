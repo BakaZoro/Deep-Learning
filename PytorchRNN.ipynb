{
  "nbformat": 4,
  "nbformat_minor": 0,
  "metadata": {
    "colab": {
      "name": "PytorchRNN.ipynb",
      "provenance": []
    },
    "kernelspec": {
      "name": "python3",
      "display_name": "Python 3"
    },
    "accelerator": "GPU"
  },
  "cells": [
    {
      "cell_type": "code",
      "metadata": {
        "id": "JyiN2CGXBhf5",
        "colab_type": "code",
        "colab": {
          "base_uri": "https://localhost:8080/",
          "height": 102
        },
        "outputId": "685c2603-7c97-4313-a962-589371ffa2e5"
      },
      "source": [
        "!pip3 install torch torchvision"
      ],
      "execution_count": 1,
      "outputs": [
        {
          "output_type": "stream",
          "text": [
            "Requirement already satisfied: torch in /usr/local/lib/python3.6/dist-packages (1.6.0+cu101)\n",
            "Requirement already satisfied: torchvision in /usr/local/lib/python3.6/dist-packages (0.7.0+cu101)\n",
            "Requirement already satisfied: numpy in /usr/local/lib/python3.6/dist-packages (from torch) (1.18.5)\n",
            "Requirement already satisfied: future in /usr/local/lib/python3.6/dist-packages (from torch) (0.16.0)\n",
            "Requirement already satisfied: pillow>=4.1.1 in /usr/local/lib/python3.6/dist-packages (from torchvision) (7.0.0)\n"
          ],
          "name": "stdout"
        }
      ]
    },
    {
      "cell_type": "code",
      "metadata": {
        "id": "z_h1yEhunlIU",
        "colab_type": "code",
        "colab": {}
      },
      "source": [
        "import torch\n",
        "import torch.nn as nn\n",
        "import torch.nn.functional as F\n",
        "import os\n",
        "import numpy as np"
      ],
      "execution_count": 1,
      "outputs": []
    },
    {
      "cell_type": "code",
      "metadata": {
        "id": "iQp5sEXSsY3o",
        "colab_type": "code",
        "colab": {}
      },
      "source": [
        "class SingleRNN(nn.Module):\n",
        "    def __init__(self, n_inputs, n_neurons):\n",
        "        super(SingleRNN, self).__init__()\n",
        "\n",
        "        self.Wx = torch.randn(n_inputs, n_neurons) # 4 X 1\n",
        "        self.Wy = torch.randn(n_neurons, n_neurons) # 1 X 1\n",
        "        \n",
        "        self.b = torch.zeros(1, n_neurons) # 1 X 4\n",
        "    \n",
        "    def forward(self, X0, X1):\n",
        "        self.Y0 = torch.tanh(torch.mm(X0, self.Wx) + self.b) # 4 X 1\n",
        "        \n",
        "        self.Y1 = torch.tanh(torch.mm(self.Y0, self.Wy) +\n",
        "                            torch.mm(X1, self.Wx) + self.b) # 4 X 1\n",
        "        \n",
        "        return self.Y0, self.Y1"
      ],
      "execution_count": 2,
      "outputs": []
    },
    {
      "cell_type": "code",
      "metadata": {
        "id": "ubfV8eWj4k_H",
        "colab_type": "code",
        "colab": {}
      },
      "source": [
        "N_INPUT = 4\n",
        "N_NEURONS = 1\n",
        "\n",
        "X0_batch = torch.tensor([[0,1,2,0], [3,4,5,0], \n",
        "                         [6,7,8,0], [9,0,1,0]],\n",
        "                        dtype = torch.float) #t=0 => 4 X 4\n",
        "\n",
        "X1_batch = torch.tensor([[9,8,7,0], [0,0,0,0], \n",
        "                         [6,5,4,0], [3,2,1,0]],\n",
        "                        dtype = torch.float) #t=1 => 4 X 4\n",
        "\n",
        "model = SingleRNN(N_INPUT, N_NEURONS)\n",
        "\n",
        "Y0_val, Y1_val = model(X0_batch, X1_batch)"
      ],
      "execution_count": 3,
      "outputs": []
    },
    {
      "cell_type": "code",
      "metadata": {
        "id": "3nEtHT4f-phC",
        "colab_type": "code",
        "colab": {
          "base_uri": "https://localhost:8080/",
          "height": 85
        },
        "outputId": "eeda0329-8444-4f86-af2a-6e3174013923"
      },
      "source": [
        "Y0_val"
      ],
      "execution_count": 4,
      "outputs": [
        {
          "output_type": "execute_result",
          "data": {
            "text/plain": [
              "tensor([[ 0.9612],\n",
              "        [ 0.9998],\n",
              "        [ 1.0000],\n",
              "        [-0.9939]])"
            ]
          },
          "metadata": {
            "tags": []
          },
          "execution_count": 4
        }
      ]
    },
    {
      "cell_type": "code",
      "metadata": {
        "id": "btvXGDvU-rv5",
        "colab_type": "code",
        "colab": {
          "base_uri": "https://localhost:8080/",
          "height": 85
        },
        "outputId": "b9db641b-ed90-480b-e85f-0c39ca12f965"
      },
      "source": [
        "Y1_val"
      ],
      "execution_count": 5,
      "outputs": [
        {
          "output_type": "execute_result",
          "data": {
            "text/plain": [
              "tensor([[ 0.9999],\n",
              "        [-0.4268],\n",
              "        [ 0.9907],\n",
              "        [ 0.7786]])"
            ]
          },
          "metadata": {
            "tags": []
          },
          "execution_count": 5
        }
      ]
    },
    {
      "cell_type": "code",
      "metadata": {
        "id": "nIi_N5qCCE-h",
        "colab_type": "code",
        "colab": {}
      },
      "source": [
        "#RNN Layer having more than 1 neuron\n",
        "\n",
        "class SimpleRNN(nn.Module):\n",
        "\n",
        "  def __init__(self,n_inputs,n_neurons):\n",
        "    super(SimpleRNN,self).__init__()\n",
        "\n",
        "    self.w_X=torch.randn(n_inputs,n_neurons)\n",
        "    self.w_Y=torch.randn(n_neurons,n_neurons)\n",
        "    self.bias=torch.zeros(1,n_neurons)\n",
        "\n",
        "  def forward(self,X0,X1):\n",
        "\n",
        "    self.Y0=torch.tanh(torch.mm(X0,self.w_X)+self.bias)\n",
        "    self.Y1=torch.tanh(torch.mm(self.Y0,self.w_Y)+torch.mm(X1,self.w_X)+self.bias)\n",
        "\n",
        "    return self.Y0,self.Y1"
      ],
      "execution_count": 6,
      "outputs": []
    },
    {
      "cell_type": "code",
      "metadata": {
        "id": "_bek4L3xDqvY",
        "colab_type": "code",
        "colab": {}
      },
      "source": [
        "n_inputs=4\n",
        "n_neurons=5\n",
        "\n",
        "X0_batch = torch.tensor([[0,1,2,2], [3,4,5,5], \n",
        "                         [6,7,8,8], [9,0,1,1]],\n",
        "                        dtype = torch.float)\n",
        "\n",
        "X1_batch = torch.tensor([[9,8,7,7], [0,0,0,0], \n",
        "                         [6,5,4,4], [3,2,1,1]], \n",
        "                        dtype = torch.float)\n"
      ],
      "execution_count": 7,
      "outputs": []
    },
    {
      "cell_type": "code",
      "metadata": {
        "id": "16txxxtYEEpI",
        "colab_type": "code",
        "colab": {}
      },
      "source": [
        "model=SimpleRNN(n_inputs,n_neurons)"
      ],
      "execution_count": 9,
      "outputs": []
    },
    {
      "cell_type": "code",
      "metadata": {
        "id": "Z38ppd9jEOEj",
        "colab_type": "code",
        "colab": {}
      },
      "source": [
        "out_Y0,out_Y1=model(X0_batch,X1_batch)"
      ],
      "execution_count": 11,
      "outputs": []
    },
    {
      "cell_type": "code",
      "metadata": {
        "id": "iOrs3IzoEkWj",
        "colab_type": "code",
        "colab": {
          "base_uri": "https://localhost:8080/",
          "height": 85
        },
        "outputId": "15c6f070-113f-4df8-af0c-6d692ba49186"
      },
      "source": [
        "out_Y0"
      ],
      "execution_count": 12,
      "outputs": [
        {
          "output_type": "execute_result",
          "data": {
            "text/plain": [
              "tensor([[ 0.9987, -0.8558,  0.9288, -0.9955,  0.9030],\n",
              "        [ 0.9447, -0.9996,  0.9999, -1.0000, -0.9978],\n",
              "        [-0.1007, -1.0000,  1.0000, -1.0000, -1.0000],\n",
              "        [-1.0000, -0.9553,  0.7332,  1.0000, -1.0000]])"
            ]
          },
          "metadata": {
            "tags": []
          },
          "execution_count": 12
        }
      ]
    },
    {
      "cell_type": "code",
      "metadata": {
        "id": "QsNXRQ0aEldp",
        "colab_type": "code",
        "colab": {
          "base_uri": "https://localhost:8080/",
          "height": 85
        },
        "outputId": "c7ba8e52-6f44-4445-b7df-4f687af2d2f5"
      },
      "source": [
        "out_Y1"
      ],
      "execution_count": 13,
      "outputs": [
        {
          "output_type": "execute_result",
          "data": {
            "text/plain": [
              "tensor([[-1.0000, -0.9998,  1.0000, -1.0000, -1.0000],\n",
              "        [ 0.4457,  0.9913, -1.0000,  0.6868, -0.0106],\n",
              "        [-1.0000, -0.9984,  0.3518, -0.9994, -1.0000],\n",
              "        [-1.0000, -1.0000,  0.3193, -0.7458, -1.0000]])"
            ]
          },
          "metadata": {
            "tags": []
          },
          "execution_count": 13
        }
      ]
    }
  ]
}